{
  "nbformat": 4,
  "nbformat_minor": 0,
  "metadata": {
    "colab": {
      "name": "Ejer1_leccion_2.ipynb",
      "provenance": [],
      "authorship_tag": "ABX9TyN0pczGAkIQDa3wcIleOpU2",
      "include_colab_link": true
    },
    "kernelspec": {
      "name": "python3",
      "display_name": "Python 3"
    },
    "language_info": {
      "name": "python"
    }
  },
  "cells": [
    {
      "cell_type": "markdown",
      "metadata": {
        "id": "view-in-github",
        "colab_type": "text"
      },
      "source": [
        "<a href=\"https://colab.research.google.com/github/alliverc/python-bootcamp/blob/main/Ejer1_leccion_2.ipynb\" target=\"_parent\"><img src=\"https://colab.research.google.com/assets/colab-badge.svg\" alt=\"Open In Colab\"/></a>"
      ]
    },
    {
      "cell_type": "code",
      "execution_count": 7,
      "metadata": {
        "colab": {
          "base_uri": "https://localhost:8080/"
        },
        "id": "GcECSLpm8ef5",
        "outputId": "911aecca-9ab1-4b84-82c0-f2febd94c698"
      },
      "outputs": [
        {
          "output_type": "stream",
          "name": "stdout",
          "text": [
            "todo en la vida es prestado , la variable es de tipo-> <class 'str'>\n"
          ]
        }
      ],
      "source": [
        "cadena=(\"todo en la vida es prestado\")\n",
        "print (cadena,\",\",\"la variable es de tipo->\",type(cadena))"
      ]
    }
  ]
}