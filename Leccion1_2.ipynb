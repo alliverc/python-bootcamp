{
  "nbformat": 4,
  "nbformat_minor": 0,
  "metadata": {
    "colab": {
      "name": "Leccion1_2.ipynb",
      "provenance": [],
      "authorship_tag": "ABX9TyPqRnR/eEwXErG2xBLqdb8k",
      "include_colab_link": true
    },
    "kernelspec": {
      "name": "python3",
      "display_name": "Python 3"
    },
    "language_info": {
      "name": "python"
    }
  },
  "cells": [
    {
      "cell_type": "markdown",
      "metadata": {
        "id": "view-in-github",
        "colab_type": "text"
      },
      "source": [
        "<a href=\"https://colab.research.google.com/github/alliverc/python-bootcamp/blob/main/Leccion1_2.ipynb\" target=\"_parent\"><img src=\"https://colab.research.google.com/assets/colab-badge.svg\" alt=\"Open In Colab\"/></a>"
      ]
    },
    {
      "cell_type": "code",
      "execution_count": 6,
      "metadata": {
        "colab": {
          "base_uri": "https://localhost:8080/"
        },
        "id": "tjdQo4bc0yxP",
        "outputId": "e20bc1f7-b47f-403c-b0f0-958baf802685"
      },
      "outputs": [
        {
          "output_type": "stream",
          "name": "stdout",
          "text": [
            "hola,soy Henry Fonseca\n",
            "estoy empezando el curso de Python\n",
            "espero aprender mucho\n"
          ]
        }
      ],
      "source": [
        "nombre=\"Henry Fonseca\"\n",
        "print(\"hola,soy\",nombre)\n",
        "print(\"estoy empezando el curso de Python\")\n",
        "print(\"espero aprender mucho\")"
      ]
    }
  ]
}